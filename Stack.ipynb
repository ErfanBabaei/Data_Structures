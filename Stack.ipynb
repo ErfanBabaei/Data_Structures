{
  "nbformat": 4,
  "nbformat_minor": 0,
  "metadata": {
    "colab": {
      "provenance": []
    },
    "kernelspec": {
      "name": "python3",
      "display_name": "Python 3"
    },
    "language_info": {
      "name": "python"
    }
  },
  "cells": [
    {
      "cell_type": "code",
      "execution_count": 54,
      "metadata": {
        "id": "JXRXTfzENskr"
      },
      "outputs": [],
      "source": [
        "class Stack:\n",
        "\n",
        "  def __init__(self):\n",
        "    self.container = []\n",
        "\n",
        "  def push(self, value):\n",
        "    self.container.append(value)\n",
        "    return print(f'Item \"{value}\" added to stack')\n",
        "\n",
        "  def pop(self):\n",
        "    if len(self.container) == 0:\n",
        "      return print('The stack is empty')\n",
        "    else:\n",
        "      poped = self.container.pop()\n",
        "      return print(f'\"{poped}\" poped out of stack.')\n",
        "\n",
        "  def peek(self):\n",
        "    if self.container:\n",
        "      return print(f'\"{self.container[-1]}\" is the last element in the stack')\n",
        "    else:\n",
        "      return print('The stack is empty')\n",
        " "
      ]
    }
  ]
}