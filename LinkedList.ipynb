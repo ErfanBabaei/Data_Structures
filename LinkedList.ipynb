{
  "nbformat": 4,
  "nbformat_minor": 0,
  "metadata": {
    "colab": {
      "provenance": []
    },
    "kernelspec": {
      "name": "python3",
      "display_name": "Python 3"
    },
    "language_info": {
      "name": "python"
    }
  },
  "cells": [
    {
      "cell_type": "code",
      "execution_count": null,
      "metadata": {
        "id": "JXRXTfzENskr"
      },
      "outputs": [],
      "source": [
        "# First we build our Node class:\n",
        "class Node: \n",
        "  # Creating new node\n",
        "  def __init__(self, value, next_node=None):\n",
        "    self.value = value\n",
        "    self.next_node = next_node\n",
        "  \n",
        "  # get value of a specific node \n",
        "  def get_value(self):\n",
        "    return self.value\n",
        "  \n",
        "  # get to the next node  \n",
        "  def get_next_node(self):\n",
        "    return self.next_node\n",
        "  \n",
        "  # set the next node \n",
        "  def set_next_node(self, next_node):\n",
        "    self.next_node = next_node\n",
        "\n",
        "# And then we create our linkedlist class for our use:\n",
        "class LinkedList:\n",
        "  \n",
        "  # creating a node in linked list\n",
        "  def __init__(self, value=None):\n",
        "    self.head_node = Node(value)\n",
        "  \n",
        "  # catching the head node for adjusting\n",
        "  def get_head_node(self):\n",
        "    return self.head_node\n",
        "  \n",
        "  # creating a node in a linkedlist and set the link th the head node\n",
        "  def insert_beginning(self, new_value):\n",
        "    new_node = Node(new_value)\n",
        "    new_node.set_next_node(self.head_node)\n",
        "    self.head_node = new_node\n",
        "    # printing all the values in the linked list\n",
        "  \n",
        "  def stringify_list(self):\n",
        "    string_list = \"\"\n",
        "    current_node = self.get_head_node()\n",
        "    while current_node:\n",
        "      if current_node.get_value() != None:\n",
        "        string_list += str(current_node.get_value()) + \"\\n\"\n",
        "      current_node = current_node.get_next_node()\n",
        "    return string_list\n",
        "  \n",
        "  # removeing a required value from linkedlist by changing the link of previous node of that node to node before that node a> b> c> d == a> c >d\n",
        "  def remove_node(self, value_to_remove):\n",
        "    current_node = self.get_head_node()\n",
        "    if current_node.get_value() == value_to_remove:\n",
        "      self.head_node = current_node.get_next_node()\n",
        "    else:\n",
        "      while current_node:\n",
        "        next_node = current_node.get_next_node()\n",
        "        if next_node.get_value() == value_to_remove:\n",
        "          current_node.set_next_node(next_node.get_next_node())\n",
        "          current_node = None\n",
        "        else:\n",
        "          current_node = next_node"
      ]
    }
  ]
}